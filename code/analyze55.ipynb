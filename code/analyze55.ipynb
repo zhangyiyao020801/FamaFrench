{
 "cells": [
  {
   "cell_type": "code",
   "execution_count": null,
   "metadata": {},
   "outputs": [],
   "source": [
    "import numpy as np\n",
    "import pandas as pd"
   ]
  },
  {
   "cell_type": "code",
   "execution_count": null,
   "metadata": {},
   "outputs": [],
   "source": [
    "T = [2012, 2013, 2014, 2015, 2016, 2017, 2018, 2019, 2020, 2021]\n",
    "col = ['Size', 'BM', 'OP', 'INV']"
   ]
  },
  {
   "cell_type": "code",
   "execution_count": null,
   "metadata": {},
   "outputs": [],
   "source": [
    "for t in T:\n",
    "    df = pd.read_csv('../data/step2/value/{}.csv'.format(t))\n",
    "    for c in col:\n",
    "        a_20 = df[c].quantile(0.2)\n",
    "        a_40 = df[c].quantile(0.4)\n",
    "        a_60 = df[c].quantile(0.6)\n",
    "        a_80 = df[c].quantile(0.8)\n",
    "        for i in range(df.shape[0]):\n",
    "            if df.loc[i, c] < a_20:\n",
    "                df.loc[i, c] = 'A'\n",
    "            elif df.loc[i, c] < a_40:\n",
    "                df.loc[i, c] = 'B'\n",
    "            elif df.loc[i, c] < a_60:\n",
    "                df.loc[i, c] = 'C'\n",
    "            elif df.loc[i, c] < a_80:\n",
    "                df.loc[i, c] = 'D'\n",
    "            else:\n",
    "                df.loc[i, c] = 'E'\n",
    "    df.to_csv('../data/analyze55/label/{}.csv'.format(t))\n",
    "    "
   ]
  },
  {
   "cell_type": "code",
   "execution_count": null,
   "metadata": {},
   "outputs": [],
   "source": [
    "finance = pd.read_csv('../data/step1/finance.csv')\n",
    "returns = pd.read_csv('../data/step1/returns.csv')\n",
    "for df in [finance, returns]:\n",
    "    df['Time'] = pd.to_datetime(df['Time'])"
   ]
  },
  {
   "cell_type": "code",
   "execution_count": null,
   "metadata": {},
   "outputs": [],
   "source": [
    "stk_group = []\n",
    "for t in T:\n",
    "    df = pd.read_csv('../data/analyze55/label/{}.csv'.format(t))\n",
    "    for label1 in ['A', 'B', 'C', 'D', 'E']:\n",
    "        for item in ['BM', 'OP', 'INV']:\n",
    "            for label2 in ['A', 'B', 'C', 'D', 'E']:\n",
    "                stk = df[(df['Size'] == label1) & (df[item] == label2)]['Stkcd'].tolist()\n",
    "                stk_group.append((str(t) + '_' + item + '_' + label1 + label2, stk))\n",
    "stk_group = dict(stk_group)"
   ]
  },
  {
   "cell_type": "code",
   "execution_count": null,
   "metadata": {},
   "outputs": [],
   "source": [
    "R = []\n",
    "for x in stk_group:\n",
    "    [year, item, label] = x.split('_')\n",
    "    year = int(year)\n",
    "    m = 7\n",
    "    \n",
    "    df = pd.DataFrame(index=None)\n",
    "    for st in stk_group[x]:\n",
    "        tmp = returns[returns['Stkcd'] == st]\n",
    "        df = pd.concat([df, tmp])\n",
    "    \n",
    "    for y in [year - 2, year - 1, year]:\n",
    "        while (y < year and m <= 12) or (y == year and m <= 7):\n",
    "            r = df[(df['Time'].dt.year == y) & (df['Time'].dt.month == m)][['Stkcd', 'Msmvosd', 'Mretwd']]\n",
    "            r['S*R'] = r['Msmvosd'] * r['Mretwd']\n",
    "            ans = r['S*R'].sum() / r['Msmvosd'].sum()\n",
    "            R.append((str(year) + '_' + str(y) + str(m) + '_' + item + '_' + label, ans))\n",
    "            m += 1\n",
    "        m = 1\n",
    "        \n",
    "R = pd.DataFrame(R, index=None)\n",
    "R.columns = ['label', 'R']\n",
    "R.to_csv('../data/analyze55/R.csv')"
   ]
  },
  {
   "cell_type": "code",
   "execution_count": null,
   "metadata": {},
   "outputs": [],
   "source": [
    "d = []\n",
    "R = pd.read_csv('../data/analyze55/R.csv', index_col=0)\n",
    "Y = [2014, 2015, 2016]\n",
    "\n",
    "for year in Y:\n",
    "    print(year - 2, '~', year)\n",
    "    for c in ['BM', 'OP', 'INV']:\n",
    "        print(c)\n",
    "        \n",
    "        for label1 in ['A', 'B', 'C', 'D', 'E']:\n",
    "            v1 = 0\n",
    "            v2 = 0\n",
    "            v3 = 0\n",
    "            v4 = 0\n",
    "            v5 = 0\n",
    "            m = 7\n",
    "            for y in [year - 2, year - 1, year]:\n",
    "                while (y < year and m <= 12) or (y == year and m <= 7):\n",
    "                    s = str(year) + '_' + str(y) + str(m) + '_' + c + '_'\n",
    "                    v1 += R[R['label'] == s + 'A' + label1]['R'].values\n",
    "                    v2 += R[R['label'] == s + 'B' + label1]['R'].values\n",
    "                    v3 += R[R['label'] == s + 'C' + label1]['R'].values\n",
    "                    v4 += R[R['label'] == s + 'D' + label1]['R'].values\n",
    "                    v5 += R[R['label'] == s + 'E' + label1]['R'].values\n",
    "                    m += 1\n",
    "                m = 1\n",
    "\n",
    "            v1 = '%.2f'%(v1 * 100 / 25) + '%'  \n",
    "            v2 = '%.2f'%(v2 * 100 / 25) + '%'\n",
    "            v3 = '%.2f'%(v3 * 100 / 25) + '%' \n",
    "            v4 = '%.2f'%(v4 * 100 / 25) + '%' \n",
    "            v5 = '%.2f'%(v5 * 100 / 25) + '%'\n",
    "            print(v1, v2, v3, v4, v5) \n",
    "            d.append([v1, v2, v3, v4, v5])\n",
    "\n",
    "d = pd.DataFrame(d)\n",
    "d.to_csv('../data/analyze55/example.csv')"
   ]
  }
 ],
 "metadata": {
  "kernelspec": {
   "display_name": "Python 3.8.12 ('base')",
   "language": "python",
   "name": "python3"
  },
  "language_info": {
   "codemirror_mode": {
    "name": "ipython",
    "version": 3
   },
   "file_extension": ".py",
   "mimetype": "text/x-python",
   "name": "python",
   "nbconvert_exporter": "python",
   "pygments_lexer": "ipython3",
   "version": "3.8.12"
  },
  "orig_nbformat": 4,
  "vscode": {
   "interpreter": {
    "hash": "214c350a670c4d2b0c9409c1981f246bd5b045d850e07d576cdaefca7f0c8346"
   }
  }
 },
 "nbformat": 4,
 "nbformat_minor": 2
}
